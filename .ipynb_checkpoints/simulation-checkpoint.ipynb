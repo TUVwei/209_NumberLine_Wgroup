{
 "cells": [
  {
   "cell_type": "code",
   "execution_count": 1,
   "metadata": {},
   "outputs": [],
   "source": [
    "import numpy as np\n",
    "import matplotlib.pyplot as plt"
   ]
  },
  {
   "cell_type": "code",
   "execution_count": 2,
   "metadata": {},
   "outputs": [],
   "source": [
    "# pre-defined values\n",
    "m = 1\n",
    "v_max = 5\n",
    "pc = 0.1\n",
    "def external_force(y):\n",
    "    return 2*np.sin(y)\n",
    "\n",
    "\n",
    "# input values\n",
    "fi = 0.6\n",
    "fphi = external_force\n",
    "v0 = 0\n",
    "y0 = 0\n",
    "H = 50"
   ]
  },
  {
   "cell_type": "code",
   "execution_count": 3,
   "metadata": {},
   "outputs": [
    {
     "name": "stdout",
     "output_type": "stream",
     "text": [
      "At time 0, pos: 0.00, vel: 0.00, ober: 0.00\n",
      "At time 1, pos: 0.00, vel: 0.60, ober: 0.52\n",
      "At time 2, pos: 0.74, vel: 1.20, ober: 1.57\n",
      "At time 3, pos: 2.07, vel: 3.15, ober: 0.99\n",
      "At time 4, pos: 5.65, vel: 5.51, ober: 4.65\n",
      "At time 5, pos: 11.20, vel: 4.92, ober: 9.65\n",
      "At time 6, pos: 16.75, vel: 3.56, ober: 17.84\n",
      "At time 7, pos: 21.36, vel: 2.44, ober: 22.78\n",
      "At time 8, pos: 24.00, vel: 4.22, ober: 24.79\n",
      "At time 9, pos: 27.84, vel: 3.01, ober: 28.78\n",
      "At time 10, pos: 30.62, vel: 4.45, ober: 33.22\n",
      "At time 11, pos: 36.17, vel: 3.62, ober: 34.13\n",
      "At time 12, pos: 40.54, vel: 2.23, ober: 38.65\n",
      "At time 13, pos: 43.44, vel: 3.42, ober: 41.86\n",
      "At time 14, pos: 45.96, vel: 2.99, ober: 45.10\n",
      "At time 15, pos: 48.72, vel: 5.43, ober: 50.22\n",
      "At time 16, pos: 53.21, vel: 4.03, ober: 55.49\n",
      "At time 17, pos: 57.89, vel: 5.03, ober: 57.34\n",
      "At time 18, pos: 62.61, vel: 7.58, ober: 62.18\n",
      "At time 19, pos: 69.69, vel: 7.75, ober: 67.83\n",
      "At time 20, pos: 76.96, vel: 9.42, ober: 75.62\n",
      "At time 21, pos: 86.32, vel: 0.00, ober: 86.32\n",
      "At time 22, pos: 86.32, vel: -1.40, ober: nan\n",
      "At time 23, pos: nan, vel: -2.79, ober: nan\n",
      "At time 24, pos: nan, vel: nan, ober: nan\n",
      "At time 25, pos: nan, vel: nan, ober: nan\n",
      "At time 26, pos: nan, vel: nan, ober: nan\n",
      "At time 27, pos: nan, vel: nan, ober: nan\n",
      "At time 28, pos: nan, vel: nan, ober: nan\n",
      "At time 29, pos: nan, vel: nan, ober: nan\n",
      "At time 30, pos: nan, vel: nan, ober: nan\n",
      "At time 31, pos: nan, vel: nan, ober: nan\n",
      "At time 32, pos: nan, vel: nan, ober: nan\n",
      "At time 33, pos: nan, vel: nan, ober: nan\n",
      "At time 34, pos: nan, vel: nan, ober: nan\n",
      "At time 35, pos: nan, vel: nan, ober: nan\n",
      "At time 36, pos: nan, vel: nan, ober: nan\n",
      "At time 37, pos: nan, vel: nan, ober: nan\n",
      "At time 38, pos: nan, vel: nan, ober: nan\n",
      "At time 39, pos: nan, vel: nan, ober: nan\n",
      "At time 40, pos: nan, vel: nan, ober: nan\n",
      "At time 41, pos: nan, vel: nan, ober: nan\n",
      "At time 42, pos: nan, vel: nan, ober: nan\n",
      "At time 43, pos: nan, vel: nan, ober: nan\n",
      "At time 44, pos: nan, vel: nan, ober: nan\n",
      "At time 45, pos: nan, vel: nan, ober: nan\n",
      "At time 46, pos: nan, vel: nan, ober: nan\n",
      "At time 47, pos: nan, vel: nan, ober: nan\n",
      "At time 48, pos: nan, vel: nan, ober: nan\n",
      "At time 49, pos: nan, vel: nan, ober: nan\n",
      "At time 50, pos: nan, vel: nan, ober: nan\n"
     ]
    },
    {
     "name": "stderr",
     "output_type": "stream",
     "text": [
      "C:\\Users\\15337\\anaconda3\\lib\\site-packages\\ipykernel_launcher.py:10: RuntimeWarning: invalid value encountered in sqrt\n",
      "  # Remove the CWD from sys.path while we load stuff.\n",
      "C:\\Users\\15337\\anaconda3\\lib\\site-packages\\ipykernel_launcher.py:17: RuntimeWarning: invalid value encountered in sqrt\n"
     ]
    }
   ],
   "source": [
    "vs = []; ys=[]; os=[]\n",
    "\n",
    "vs.append(v0)\n",
    "ys.append(y0)\n",
    "\n",
    "v_now = v0\n",
    "y_now = y0\n",
    "for t in range(1,H+1):\n",
    "    # ynext\n",
    "    y_next = y_now + v_now + np.random.normal(0, np.sqrt(0.1*v_now))\n",
    "    # vnext\n",
    "    if np.random.rand() <= (np.abs(v_now)-v_max)*pc/v_max:\n",
    "        v_next = 0\n",
    "    else:\n",
    "        v_next = v_now + 1/m*(fi+fphi(y_now))\n",
    "    # o\n",
    "    o = y_now + np.random.normal(0, np.sqrt(0.5*v_now))\n",
    "    \n",
    "    # print\n",
    "    print('At time {}, pos: {:.2f}, vel: {:.2f}, ober: {:.2f}'.format(t-1, y_now, v_now, o))\n",
    "    \n",
    "    # save\n",
    "    vs.append(v_next)\n",
    "    ys.append(y_next)\n",
    "    os.append(o)\n",
    "    # next\n",
    "    v_now = v_next\n",
    "    y_now = y_next\n",
    "os.append(y_now + np.random.normal(0, np.sqrt(0.5*v_now)))\n",
    "print('At time {}, pos: {:.2f}, vel: {:.2f}, ober: {:.2f}'.format(t, y_now, v_now, o))"
   ]
  },
  {
   "cell_type": "code",
   "execution_count": null,
   "metadata": {},
   "outputs": [],
   "source": []
  }
 ],
 "metadata": {
  "kernelspec": {
   "display_name": "Python 3",
   "language": "python",
   "name": "python3"
  },
  "language_info": {
   "codemirror_mode": {
    "name": "ipython",
    "version": 3
   },
   "file_extension": ".py",
   "mimetype": "text/x-python",
   "name": "python",
   "nbconvert_exporter": "python",
   "pygments_lexer": "ipython3",
   "version": "3.7.6"
  }
 },
 "nbformat": 4,
 "nbformat_minor": 4
}
