{
 "cells": [
  {
   "cell_type": "code",
   "execution_count": 1,
   "metadata": {},
   "outputs": [],
   "source": [
    "import numpy as np\n",
    "import matplotlib.pyplot as plt"
   ]
  },
  {
   "cell_type": "code",
   "execution_count": 7,
   "metadata": {},
   "outputs": [],
   "source": [
    "# pre-defined values\n",
    "m = 1\n",
    "v_max = 5\n",
    "pc = 0.1\n",
    "def external_force(y):\n",
    "    return 2*np.sin(y)\n",
    "\n",
    "\n",
    "# input values\n",
    "fi = 0.6\n",
    "fphi = external_force\n",
    "v0 = 0\n",
    "y0 = 0\n",
    "H = 10"
   ]
  },
  {
   "cell_type": "code",
   "execution_count": 21,
   "metadata": {},
   "outputs": [
    {
     "name": "stdout",
     "output_type": "stream",
     "text": [
      "At time 0, pos: 0.00, vel: 0.00, ober: 0.00\n",
      "At time 1, pos: 0.00, vel: 0.60, ober: -0.02\n",
      "At time 2, pos: 0.84, vel: 1.20, ober: 0.01\n",
      "At time 3, pos: 2.38, vel: 3.29, ober: 1.18\n",
      "At time 4, pos: 4.94, vel: 5.27, ober: 5.58\n",
      "At time 5, pos: 10.20, vel: 3.92, ober: 8.58\n",
      "At time 6, pos: 14.61, vel: 3.12, ober: 15.27\n",
      "At time 7, pos: 17.27, vel: 5.50, ober: 14.30\n",
      "At time 8, pos: 22.66, vel: 4.10, ober: 24.26\n",
      "At time 9, pos: 26.66, vel: 3.46, ober: 27.43\n",
      "At time 10, pos: 29.81, vel: 6.05, ober: 27.43\n"
     ]
    }
   ],
   "source": [
    "vs = []; ys=[]; os=[]\n",
    "\n",
    "vs.append(v0)\n",
    "ys.append(y0)\n",
    "\n",
    "v_now = v0\n",
    "y_now = y0\n",
    "for t in range(1,H+1):\n",
    "    # ynext\n",
    "    y_next = y_now + v_now + np.random.normal(0, np.sqrt(0.1*v_now))\n",
    "    # vnext\n",
    "    if np.random.rand() <= (np.abs(v_now)-v_max)*pc/v_max:\n",
    "        v_next = 0\n",
    "    else:\n",
    "        v_next = v_now + 1/m*(fi+fphi(y_now))\n",
    "    # o\n",
    "    o = y_now + np.random.normal(0, np.sqrt(0.5*v_now))\n",
    "    \n",
    "    # print\n",
    "    print('At time {}, pos: {:.2f}, vel: {:.2f}, ober: {:.2f}'.format(t-1, y_now, v_now, o))\n",
    "    \n",
    "    # save\n",
    "    vs.append(v_next)\n",
    "    ys.append(y_next)\n",
    "    os.append(o)\n",
    "    # next\n",
    "    v_now = v_next\n",
    "    y_now = y_next\n",
    "os.append(y_now + np.random.normal(0, np.sqrt(0.5*v_now)))\n",
    "print('At time {}, pos: {:.2f}, vel: {:.2f}, ober: {:.2f}'.format(t, y_now, v_now, o))"
   ]
  },
  {
   "cell_type": "code",
   "execution_count": null,
   "metadata": {},
   "outputs": [],
   "source": []
  }
 ],
 "metadata": {
  "kernelspec": {
   "display_name": "Python 3",
   "language": "python",
   "name": "python3"
  },
  "language_info": {
   "codemirror_mode": {
    "name": "ipython",
    "version": 3
   },
   "file_extension": ".py",
   "mimetype": "text/x-python",
   "name": "python",
   "nbconvert_exporter": "python",
   "pygments_lexer": "ipython3",
   "version": "3.7.6"
  }
 },
 "nbformat": 4,
 "nbformat_minor": 4
}
